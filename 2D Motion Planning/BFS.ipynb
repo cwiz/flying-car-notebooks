{
 "cells": [
  {
   "cell_type": "markdown",
   "metadata": {},
   "source": [
    "# Breadth-First Search"
   ]
  },
  {
   "cell_type": "markdown",
   "metadata": {},
   "source": [
    "In this exercise you'll implement the breadth-first search algorithm."
   ]
  },
  {
   "cell_type": "code",
   "execution_count": 35,
   "metadata": {},
   "outputs": [],
   "source": [
    "# Import numpy, Enum and Queue\n",
    "import numpy as np\n",
    "from enum import Enum\n",
    "from queue import Queue"
   ]
  },
  {
   "cell_type": "markdown",
   "metadata": {},
   "source": [
    "https://wiki.python.org/moin/TimeComplexity gives a solid overview of Python data structures and their time complexity."
   ]
  },
  {
   "cell_type": "markdown",
   "metadata": {},
   "source": [
    "[`Enum`](https://docs.python.org/3/library/enum.html#module-enum) is used to represent possible actions on the grid."
   ]
  },
  {
   "cell_type": "code",
   "execution_count": 36,
   "metadata": {},
   "outputs": [],
   "source": [
    "# Define a start and goal location\n",
    "start = (0, 0)\n",
    "goal = (4, 4)\n",
    "# Define your grid-based state space of obstacles and free space\n",
    "grid = np.array([\n",
    "    [0, 1, 0, 0, 0, 0],\n",
    "    [0, 1, 0, 0, 0, 0],\n",
    "    [0, 1, 0, 1, 0, 0],\n",
    "    [0, 0, 0, 1, 1, 0],\n",
    "    [0, 0, 0, 1, 0, 0],\n",
    "])"
   ]
  },
  {
   "cell_type": "code",
   "execution_count": 49,
   "metadata": {},
   "outputs": [],
   "source": [
    "class Action(Enum):\n",
    "    # Assign the cost of each action as the third element in the tuple\n",
    "    LEFT = (0, -1, 1)\n",
    "    RIGHT = (0, 1, 1)\n",
    "    UP = (-1, 0, 1)\n",
    "    DOWN = (1, 0, 1)\n",
    "\n",
    "    def __str__(self):\n",
    "        if self == self.LEFT:\n",
    "            return '<'\n",
    "        elif self == self.RIGHT:\n",
    "            return '>'\n",
    "        elif self == self.UP:\n",
    "            return '^'\n",
    "        elif self == self.DOWN:\n",
    "            return 'v'\n",
    "    # Assign a new property that returns the cost of an action\n",
    "    @property\n",
    "    def cost(self):\n",
    "        return self.value[2]\n",
    "    # Assign a property that returns the action itself\n",
    "    @property\n",
    "    def delta(self):\n",
    "        return (self.value[0], self.value[1])\n",
    "            \n",
    "# Define a function that returns a list of valid actions \n",
    "# through the grid from the current node\n",
    "def valid_actions(grid, current_node):\n",
    "    \"\"\"\n",
    "    Returns a list of valid actions given a grid and current node.\n",
    "    \"\"\"\n",
    "    # First define a list of all possible actions\n",
    "    valid = [Action.UP, Action.LEFT, Action.RIGHT, Action.DOWN]\n",
    "    # Retrieve the grid shape and position of the current node\n",
    "    n, m = grid.shape[0] - 1, grid.shape[1] - 1\n",
    "    x, y = current_node\n",
    "    \n",
    "    # check if the node is off the grid or it's an obstacle\n",
    "    # If it is either, remove the action that takes you there\n",
    "    if x - 1 < 0 or grid[x-1, y] == 1:\n",
    "        valid.remove(Action.UP)\n",
    "    if x + 1 > n or grid[x+1, y] == 1:\n",
    "        valid.remove(Action.DOWN)\n",
    "    if y - 1 < 0 or grid[x, y-1] == 1:\n",
    "        valid.remove(Action.LEFT)\n",
    "    if y + 1 > m or grid[x, y+1] == 1:\n",
    "        valid.remove(Action.RIGHT)\n",
    "        \n",
    "    return valid\n",
    "\n",
    "# Define a function to visualize the path\n",
    "def visualize_path(grid, path, start):\n",
    "    \"\"\"\n",
    "    Given a grid, path and start position\n",
    "    return visual of the path to the goal.\n",
    "    \n",
    "    'S' -> start \n",
    "    'G' -> goal\n",
    "    'O' -> obstacle\n",
    "    ' ' -> empty\n",
    "    \"\"\"\n",
    "    # Define a grid of string characters for visualization\n",
    "    sgrid = np.zeros(np.shape(grid), dtype=np.str)\n",
    "    sgrid[:] = ' '\n",
    "    sgrid[grid[:] == 1] = 'O'\n",
    "    \n",
    "    pos = start\n",
    "    # Fill in the string grid\n",
    "    for a in path:\n",
    "        da = a.value\n",
    "        sgrid[pos[0], pos[1]] = str(a)\n",
    "        pos = (pos[0] + da[0], pos[1] + da[1])\n",
    "    sgrid[pos[0], pos[1]] = 'G'\n",
    "    sgrid[start[0], start[1]] = 'S'  \n",
    "    return sgrid"
   ]
  },
  {
   "cell_type": "markdown",
   "metadata": {},
   "source": [
    "### Breadth-First Algorithm\n",
    "\n",
    "In this section you will implement breadth-first search. The main body of the function is already given. You will need to implement the remaining `TODOs`."
   ]
  },
  {
   "cell_type": "code",
   "execution_count": 50,
   "metadata": {},
   "outputs": [],
   "source": [
    "# Define your breadth-first search function here\n",
    "def breadth_first(grid, start, goal):\n",
    "\n",
    "    q = Queue()\n",
    "    visited = set()\n",
    "    branch = {start:None}\n",
    "    found = False\n",
    "    \n",
    "    q.put(start)\n",
    "    visited.add(start)\n",
    "    \n",
    "    while not q.empty(): # TODO: replace True with q.empty():\n",
    "        current_node = q.get()\n",
    "        \n",
    "        if current_node[0] == goal[0] and current_node[1] == goal[1]: \n",
    "            print('Found a path.')\n",
    "            found = True\n",
    "            break\n",
    "        else:\n",
    "            for action in valid_actions(grid, current_node):\n",
    "                next_node = (current_node[0] + action.value[0], current_node[1] + action.value[1])\n",
    "                if next_node not in visited:\n",
    "                    q.put(next_node)\n",
    "                    visited.add(next_node)\n",
    "                    branch[next_node] = (current_node, action)\n",
    "    print(branch)\n",
    "    # Now, if you found a path, retrace your steps through \n",
    "    # the branch dictionary to find out how you got there!\n",
    "    path = []\n",
    "    if found:\n",
    "        # retrace steps\n",
    "        path = []\n",
    "        n = goal\n",
    "        while branch[n][0] != start:\n",
    "            path.append(branch[n][1])\n",
    "            n = branch[n][0]\n",
    "        path.append(branch[n][1])\n",
    "            \n",
    "    return path[::-1]"
   ]
  },
  {
   "cell_type": "markdown",
   "metadata": {},
   "source": [
    "### Executing the search\n",
    "\n",
    "Run `breadth_first()` and reference the grid to see if the path makes sense."
   ]
  },
  {
   "cell_type": "code",
   "execution_count": 47,
   "metadata": {},
   "outputs": [
    {
     "name": "stdout",
     "output_type": "stream",
     "text": [
      "Found a path.\n",
      "{(0, 0): None, (1, 0): ((0, 0), <Action.DOWN: (1, 0)>), (2, 0): ((1, 0), <Action.DOWN: (1, 0)>), (3, 0): ((2, 0), <Action.DOWN: (1, 0)>), (3, 1): ((3, 0), <Action.RIGHT: (0, 1)>), (4, 0): ((3, 0), <Action.DOWN: (1, 0)>), (3, 2): ((3, 1), <Action.RIGHT: (0, 1)>), (4, 1): ((3, 1), <Action.DOWN: (1, 0)>), (2, 2): ((3, 2), <Action.UP: (-1, 0)>), (4, 2): ((3, 2), <Action.DOWN: (1, 0)>), (1, 2): ((2, 2), <Action.UP: (-1, 0)>), (0, 2): ((1, 2), <Action.UP: (-1, 0)>), (1, 3): ((1, 2), <Action.RIGHT: (0, 1)>), (0, 3): ((0, 2), <Action.RIGHT: (0, 1)>), (1, 4): ((1, 3), <Action.RIGHT: (0, 1)>), (0, 4): ((0, 3), <Action.RIGHT: (0, 1)>), (1, 5): ((1, 4), <Action.RIGHT: (0, 1)>), (2, 4): ((1, 4), <Action.DOWN: (1, 0)>), (0, 5): ((0, 4), <Action.RIGHT: (0, 1)>), (2, 5): ((1, 5), <Action.DOWN: (1, 0)>), (3, 5): ((2, 5), <Action.DOWN: (1, 0)>), (4, 5): ((3, 5), <Action.DOWN: (1, 0)>), (4, 4): ((4, 5), <Action.LEFT: (0, -1)>)}\n",
      "[<Action.DOWN: (1, 0)>, <Action.DOWN: (1, 0)>, <Action.DOWN: (1, 0)>, <Action.RIGHT: (0, 1)>, <Action.RIGHT: (0, 1)>, <Action.UP: (-1, 0)>, <Action.UP: (-1, 0)>, <Action.RIGHT: (0, 1)>, <Action.RIGHT: (0, 1)>, <Action.RIGHT: (0, 1)>, <Action.DOWN: (1, 0)>, <Action.DOWN: (1, 0)>, <Action.DOWN: (1, 0)>, <Action.LEFT: (0, -1)>]\n"
     ]
    }
   ],
   "source": [
    "path = breadth_first(grid, start, goal)\n",
    "print(path)"
   ]
  },
  {
   "cell_type": "code",
   "execution_count": 48,
   "metadata": {},
   "outputs": [
    {
     "data": {
      "text/plain": [
       "array([['S', 'O', ' ', ' ', ' ', ' '],\n",
       "       ['v', 'O', '>', '>', '>', 'v'],\n",
       "       ['v', 'O', '^', 'O', ' ', 'v'],\n",
       "       ['>', '>', '^', 'O', 'O', 'v'],\n",
       "       [' ', ' ', ' ', 'O', 'G', '<']], dtype='<U1')"
      ]
     },
     "execution_count": 48,
     "metadata": {},
     "output_type": "execute_result"
    }
   ],
   "source": [
    "# S -> start, G -> goal, O -> obstacle\n",
    "visualize_path(grid, path, start)"
   ]
  },
  {
   "cell_type": "markdown",
   "metadata": {},
   "source": [
    "Check out our solution [here!](/notebooks/BFS-Solution.ipynb)"
   ]
  },
  {
   "cell_type": "code",
   "execution_count": null,
   "metadata": {},
   "outputs": [],
   "source": []
  }
 ],
 "metadata": {
  "kernelspec": {
   "display_name": "Python 3",
   "language": "python",
   "name": "python3"
  },
  "language_info": {
   "codemirror_mode": {
    "name": "ipython",
    "version": 3
   },
   "file_extension": ".py",
   "mimetype": "text/x-python",
   "name": "python",
   "nbconvert_exporter": "python",
   "pygments_lexer": "ipython3",
   "version": "3.6.5"
  }
 },
 "nbformat": 4,
 "nbformat_minor": 2
}
