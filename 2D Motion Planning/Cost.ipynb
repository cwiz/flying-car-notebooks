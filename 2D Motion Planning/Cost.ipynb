{
 "cells": [
  {
   "cell_type": "markdown",
   "metadata": {},
   "source": [
    "# Uniform Cost Search"
   ]
  },
  {
   "cell_type": "markdown",
   "metadata": {},
   "source": [
    "In this exercise you'll implement extend breadth-first search by incorporating a cost for each action."
   ]
  },
  {
   "cell_type": "code",
   "execution_count": 1,
   "metadata": {},
   "outputs": [],
   "source": [
    "from queue import Queue\n",
    "import numpy as np\n",
    "from enum import Enum"
   ]
  },
  {
   "cell_type": "markdown",
   "metadata": {},
   "source": [
    "https://wiki.python.org/moin/TimeComplexity gives a solid overview of Python data structures and their time complexity. \n",
    "\n",
    "Is there a data structure more suitable for this task than a `Queue`?"
   ]
  },
  {
   "cell_type": "markdown",
   "metadata": {},
   "source": [
    "* [`Enum`](https://docs.python.org/3/library/enum.html#module-enum) is used to represent possible actions on the grid."
   ]
  },
  {
   "cell_type": "code",
   "execution_count": 53,
   "metadata": {},
   "outputs": [],
   "source": [
    "class Action(Enum):\n",
    "    \"\"\"\n",
    "    An action is represented by a 3 element tuple.\n",
    "    \n",
    "    The first 2 values are the delta of the action relative\n",
    "    to the current grid position. The third and final value\n",
    "    is the cost of performing the action.\n",
    "    \"\"\"\n",
    "    UPRIGHT = (-1, 1, 2.**.5)\n",
    "    DOWNRIGHT = (1, 1, 2.**.5)\n",
    "    DOWNLEFT = (1, -1, 2.**.5)\n",
    "    UPLEFT = (-1, -1,2.**.5)\n",
    "    LEFT = (0, -1, 1)\n",
    "    RIGHT = (0, 1, 1)\n",
    "    UP = (-1, 0, 1)\n",
    "    DOWN = (1, 0, 1)\n",
    "    \n",
    "    def __str__(self):\n",
    "        if self == self.LEFT:\n",
    "            return '<'\n",
    "        elif self == self.RIGHT:\n",
    "            return '>'\n",
    "        elif self == self.UP:\n",
    "            return '^'\n",
    "        elif self == self.DOWN:\n",
    "            return 'v'\n",
    "        elif self == self.UPRIGHT:\n",
    "            return \"u\"\n",
    "        elif self == self.DOWNRIGHT:\n",
    "            return \"d\"\n",
    "        elif self == self.DOWNLEFT:\n",
    "            return \"/\"\n",
    "        elif self == self.UPLEFT:\n",
    "            return \"l\"\n",
    "    \n",
    "    @property\n",
    "    def cost(self):\n",
    "        return self.value[2]\n",
    "    \n",
    "    @property\n",
    "    def delta(self):\n",
    "        return (self.value[0], self.value[1])\n",
    "            \n",
    "    \n",
    "def valid_actions(grid, current_node):\n",
    "    \"\"\"\n",
    "    Returns a list of valid actions given a grid and current node.\n",
    "    \"\"\"\n",
    "    valid = [\n",
    "        Action.UP, \n",
    "        Action.LEFT, \n",
    "        Action.RIGHT, \n",
    "        Action.DOWN, \n",
    "        Action.UPRIGHT, \n",
    "        Action.UPLEFT, \n",
    "        Action.DOWNRIGHT, \n",
    "        Action.DOWNLEFT,\n",
    "    ]\n",
    "    n, m = grid.shape[0] - 1, grid.shape[1] - 1\n",
    "    x, y = current_node\n",
    "    \n",
    "    # check if the node is off the grid or\n",
    "    # it's an obstacle\n",
    "    \n",
    "    if x - 1 < 0 or grid[x-1, y] == 1:\n",
    "        valid.remove(Action.UP)\n",
    "    if x + 1 > n or grid[x+1, y] == 1:\n",
    "        valid.remove(Action.DOWN)\n",
    "    if y - 1 < 0 or grid[x, y-1] == 1:\n",
    "        valid.remove(Action.LEFT)\n",
    "    if y + 1 > m or grid[x, y+1] == 1:\n",
    "        valid.remove(Action.RIGHT)\n",
    "    if y + 1 > m or x + 1 > n or grid[x+1, y+1] == 1:\n",
    "        valid.remove(Action.DOWNRIGHT)\n",
    "    if y - 1 > m or x - 1 < 0 or grid[x-1, y-1] == 1:\n",
    "        valid.remove(Action.UPLEFT)\n",
    "    if y + 1 > m or x - 1 < 0 or grid[x-1, y+1] == 1:\n",
    "        valid.remove(Action.UPRIGHT)\n",
    "    if y - 1 < 0 or x + 1 > n or grid[x+1, y-1] == 1:\n",
    "        valid.remove(Action.DOWNLEFT)\n",
    "        \n",
    "    return valid\n",
    "\n",
    "def visualize_path(grid, path, start):\n",
    "    sgrid = np.zeros(np.shape(grid), dtype=np.str)\n",
    "    sgrid[:] = ' '\n",
    "    sgrid[grid[:] == 1] = 'O'\n",
    "    \n",
    "    pos = start\n",
    "    \n",
    "    for a in path:\n",
    "        da = a.value\n",
    "        sgrid[pos[0], pos[1]] = str(a)\n",
    "        pos = (pos[0] + da[0], pos[1] + da[1])\n",
    "    sgrid[pos[0], pos[1]] = 'G'\n",
    "    sgrid[start[0], start[1]] = 'S'  \n",
    "    return sgrid"
   ]
  },
  {
   "cell_type": "markdown",
   "metadata": {},
   "source": [
    "### Cost Search\n",
    "\n",
    "In this section you will extend the breadth-first search algorithm by incorporating a cost for each action. Your task is to compute the lowest cost path. Does this change the data structures you should use?\n",
    "\n",
    "You will need to implement the remaining `TODOs`."
   ]
  },
  {
   "cell_type": "code",
   "execution_count": 58,
   "metadata": {},
   "outputs": [],
   "source": [
    "def get_path_info(branch, start, goal):\n",
    "    n = goal\n",
    "    path = []\n",
    "    path_cost = 0 \n",
    "        \n",
    "    if start == goal:\n",
    "        return (0, set())\n",
    "    while branch[n][1] != start:\n",
    "        path.append(branch[n][2])\n",
    "        path_cost += branch[n][0]\n",
    "        n = branch[n][1]\n",
    "    return (path_cost, set(path))\n",
    "\n",
    "# Define your breadth-first search function here\n",
    "def uniform_cost(grid, start, goal):\n",
    "\n",
    "    q = Queue()\n",
    "    visited = set()\n",
    "    branch = {start:None}\n",
    "    found = False\n",
    "    \n",
    "    q.put(start)\n",
    "    visited.add(start)\n",
    "    \n",
    "    while not q.empty(): \n",
    "        current_node = q.get()\n",
    "        \n",
    "        if current_node[0] == goal[0] and current_node[1] == goal[1]: \n",
    "            print('Found a path.')\n",
    "            found = True\n",
    "            break\n",
    "        else:\n",
    "            actions = valid_actions(grid, current_node)\n",
    "            for action in valid_actions(grid, current_node):\n",
    "                delta = action.delta\n",
    "                next_cost = action.cost\n",
    "                next_node = (current_node[0] + delta[0], current_node[1] + delta[1])\n",
    "                \n",
    "                #  if next node has been already visited then we calcualte path cose to get to that node\n",
    "                #  if path cost is hight then the new one we replace it with a new one\n",
    "                if next_node in visited:\n",
    "                    \n",
    "                    # previous path cose\n",
    "                    (cost_1, path_1) = get_path_info(branch, start, next_node)\n",
    "                    (current_cost, path_2) = get_path_info(branch, start, current_node)\n",
    "                    cost_2 = current_cost + next_cost \n",
    "\n",
    "                    if cost_2 < cost_1:\n",
    "                        path_difference = path_1.difference(path_2)\n",
    "                        visited = visited.difference(path_difference)\n",
    "                        q.put(next_node)\n",
    "                        visited.add(next_node)\n",
    "                        branch[next_node] = (next_cost, current_node, action)\n",
    "                        \n",
    "                if next_node not in visited:\n",
    "                    q.put(next_node)\n",
    "                    visited.add(next_node)\n",
    "                    branch[next_node] = (next_cost, current_node, action)\n",
    "\n",
    "\n",
    "    path = []\n",
    "    path_cost = 0\n",
    "    if found:\n",
    "        \n",
    "        # retrace steps\n",
    "        path = []\n",
    "        n = goal\n",
    "        path_cost = branch[n][0]\n",
    "        while branch[n][1] != start:\n",
    "            path.append(branch[n][2])\n",
    "            n = branch[n][1]\n",
    "            path_cost += branch[n][0]\n",
    "        path.append(branch[n][2])\n",
    "            \n",
    "    return path[::-1], path_cost"
   ]
  },
  {
   "cell_type": "markdown",
   "metadata": {},
   "source": [
    "### Executing the search\n",
    "\n",
    "Run `uniform_cost()` and reference the grid to see if the path makes sense."
   ]
  },
  {
   "cell_type": "code",
   "execution_count": 59,
   "metadata": {},
   "outputs": [],
   "source": [
    "start = (0, 0)\n",
    "goal = (4, 4)\n",
    "\n",
    "grid = np.array([\n",
    "    [0, 1, 0, 0, 0, 0],\n",
    "    [0, 1, 0, 1, 0, 0],\n",
    "    [0, 1, 0, 0, 0, 0],\n",
    "    [0, 1, 0, 0, 1, 0],\n",
    "    [0, 0, 0, 1, 0, 0],\n",
    "])"
   ]
  },
  {
   "cell_type": "code",
   "execution_count": 60,
   "metadata": {},
   "outputs": [
    {
     "name": "stdout",
     "output_type": "stream",
     "text": [
      "Found a path.\n",
      "8.242640687119286 [<Action.DOWN: (1, 0, 1)>, <Action.DOWN: (1, 0, 1)>, <Action.DOWN: (1, 0, 1)>, <Action.DOWNRIGHT: (1, 1, 1.4142135623730951)>, <Action.RIGHT: (0, 1, 1)>, <Action.UPRIGHT: (-1, 1, 1.4142135623730951)>, <Action.DOWNRIGHT: (1, 1, 1.4142135623730951)>]\n"
     ]
    }
   ],
   "source": [
    "path, path_cost = uniform_cost(grid, start, goal)\n",
    "print(path_cost, path)"
   ]
  },
  {
   "cell_type": "code",
   "execution_count": 61,
   "metadata": {},
   "outputs": [
    {
     "data": {
      "text/plain": [
       "array([['S', 'O', ' ', ' ', ' ', ' '],\n",
       "       ['v', 'O', ' ', 'O', ' ', ' '],\n",
       "       ['v', 'O', ' ', ' ', ' ', ' '],\n",
       "       ['d', 'O', ' ', 'd', 'O', ' '],\n",
       "       [' ', '>', 'u', 'O', 'G', ' ']], dtype='<U1')"
      ]
     },
     "execution_count": 61,
     "metadata": {},
     "output_type": "execute_result"
    }
   ],
   "source": [
    "# S -> start, G -> goal, O -> obstacle\n",
    "visualize_path(grid, path, start)"
   ]
  },
  {
   "cell_type": "markdown",
   "metadata": {},
   "source": [
    "[Solution](/notebooks/Cost-Solution.ipynb)"
   ]
  },
  {
   "cell_type": "code",
   "execution_count": null,
   "metadata": {},
   "outputs": [],
   "source": []
  }
 ],
 "metadata": {
  "kernelspec": {
   "display_name": "Python 3",
   "language": "python",
   "name": "python3"
  },
  "language_info": {
   "codemirror_mode": {
    "name": "ipython",
    "version": 3
   },
   "file_extension": ".py",
   "mimetype": "text/x-python",
   "name": "python",
   "nbconvert_exporter": "python",
   "pygments_lexer": "ipython3",
   "version": "3.6.5"
  }
 },
 "nbformat": 4,
 "nbformat_minor": 2
}
